{
 "cells": [
  {
   "cell_type": "markdown",
   "metadata": {},
   "source": [
    "# CS 171 Problem Set 2\n",
    "# Due Monday, October 28, 2019 @ 11:59pm"
   ]
  },
  {
   "cell_type": "markdown",
   "metadata": {},
   "source": [
    "## Read *all* cells carefully and answer all parts (both text and missing code)"
   ]
  },
  {
   "cell_type": "markdown",
   "metadata": {},
   "source": [
    "### Enter your information below:\n",
    "\n",
    "<div style=\"color: #000000;background-color: #EEEEFF\">\n",
    "    Your Name (submitter): Ji Houn Huh<br>\n",
    "    \n",
    "<hr>\n",
    "\n",
    "Collaborators, optional (they do *not* need to submit their own)\n",
    "\n",
    "(max of 2 collaborators)\n",
    "</div>\n"
   ]
  },
  {
   "cell_type": "markdown",
   "metadata": {},
   "source": [
    "## Overview\n",
    "\n",
    "In this problem set, we will revisit the same movie review data from last time.  We will first try to predict the numeric score of the review (regression) using ridge regression (problems 1 and 2).  Then, we will try to just predict whether it is a good review or bad review (problems 3 and 4).\n",
    "\n",
    "The code below imports all allowed libraries and loads the data.  The variables loaded are as follows\n",
    "- Training data:\n",
    "    - `trainX` the data matrix, as is standard.  Each feature is a little different from last time.  The ith feature corresponds to the ith most common word across all reviews.  It is still related to the number of times the word is used in the review.  However, this time instead of bucketing this number into a category, we use the real value. Except, that instead of the raw count, we record the number of standard deviations this raw count is away from the mean raw count.  Why?  Well, we will cover that in week 9 or 10.  However, this makes things work better.  So, if the value is 0, then this review uses this word the average number of times.  If the value is +1, this review uses this word one standard deviation higher than average.  If -1, it uses it one standard deviation less than average.\n",
    "    - `trainYreg` the regression prediciton values.  We don't predict the raw rating (from 0 to 10), but rather the difference of this raw rating and 5.  So if the value in this vector is +3, that means the rating was an 8.  If the value is -4, the actual rating was a 1.\n",
    "    - `trainYclass` the classification prediction values.  These are +1 for positive reviews and -1 for negative reviews, same as last time.\n",
    "- Testing data:\n",
    "    - `testX` same as `trainX` but for the testing set\n",
    "    - `testYreg` same as `trainYreg` but for the training set\n",
    "    - `testYclass` same as `trainYclass` but for the training set"
   ]
  },
  {
   "cell_type": "code",
   "execution_count": 1,
   "metadata": {},
   "outputs": [],
   "source": [
    "import numpy as np\n",
    "import matplotlib.pyplot as plt\n",
    "from IPython.display import display, clear_output\n",
    "\n",
    "\n",
    "# load the data\n",
    "def loadsparsedata(fn):\n",
    "    \n",
    "    fp = open(fn,\"r\")\n",
    "    lines = fp.readlines()\n",
    "    maxf = 0;\n",
    "    for line in lines:\n",
    "        for i in line.split()[1::2]:\n",
    "            maxf = max(maxf,int(i))\n",
    "    \n",
    "    X = np.zeros((len(lines),maxf))\n",
    "    Y = np.zeros((len(lines)))\n",
    "    \n",
    "    for i, line in enumerate(lines):\n",
    "        values = line.split()\n",
    "        Y[i] = int(values[0])\n",
    "        for j,v in zip(values[1::2],values[2::2]):\n",
    "            X[i,int(j)-1] = int(v)\n",
    "    \n",
    "    X = (X-X.mean(axis=0))/X.std(axis=0)\n",
    "    return X,Y\n",
    "\n",
    "def loadplusones(fn):\n",
    "    (X,Y) = loadsparsedata(fn)\n",
    "    X = np.column_stack((np.ones(X.shape[0]),X))\n",
    "    return X,Y\n",
    "\n",
    "(trainX,trainYreg) = loadplusones('sptrainreal.txt')\n",
    "(testX,testYreg) = loadplusones('sptestreal.txt')\n",
    "trainYreg = trainYreg - 5\n",
    "testYreg = testYreg - 5\n",
    "trainYclass = np.sign(trainYreg)\n",
    "testYclass = np.sign(testYreg)\n"
   ]
  },
  {
   "cell_type": "code",
   "execution_count": 2,
   "metadata": {},
   "outputs": [],
   "source": [
    "#print (trainYreg)\n",
    "#print(np.shape(trainYreg))\n",
    "#print(trainYreg.transpose())\n",
    "#print(np.shape(np.transpose(trainYreg)))\n"
   ]
  },
  {
   "cell_type": "markdown",
   "metadata": {},
   "source": [
    "<div style=\"color: #000000;background-color: #FFEEFF\">\n",
    "    <font size=+2>Part I: Ridge Regression</font>\n",
    "</div>"
   ]
  },
  {
   "cell_type": "markdown",
   "metadata": {},
   "source": [
    "<div style=\"color: #000000;background-color: #FFFFEE\">\n",
    "    <font size=+2>Question 1:</font> <font size=+1>(3 points)</font>\n",
    "    \n",
    "Complete the training and testing functions below for ridge regression.\n",
    "    \n",
    "Do **not** penalize the initial weight (corresponding to the intercept term).\n",
    "\n",
    "</div>"
   ]
  },
  {
   "cell_type": "code",
   "execution_count": 3,
   "metadata": {},
   "outputs": [],
   "source": [
    "def learnridge(X,Y,lam):\n",
    "    # X is the data matrix of shape (m,n)\n",
    "    # Y is are the target values of shape (m,)\n",
    "    # lam is the value of lambda (careful, lambda is a reserved keyword in python)\n",
    "    # function should return w of shape (n,)\n",
    "    \n",
    "    # YOUR CODE HERE\n",
    "    \n",
    "    # Ax=b , you can call x = np.linalg.solve(A,b) which calculates the equivalent of x=A^(−1)b. \n",
    "    # numpy.linalg.inv() for inversing\n",
    "    #lengthX = X.len()\n",
    "    #w = 0;\n",
    "    #for i in range(1000):\n",
    "    #    for j in range(lengthX):\n",
    "            \n",
    "    #tranX = X.T\n",
    "    \n",
    "    # find matrix identity matrix\n",
    "    idenX = np.eye(trainX.shape[1])\n",
    "    idenX[0][0] = 0\n",
    "    w = np.linalg.solve((X.T@X + lam*(idenX)), X.T@Y)\n",
    "    #w = np.linalg.inv(tranX*X + lam*(idenX)) + tranX * Y\n",
    "    return w\n",
    "    \n",
    "def predictridge(X,w):\n",
    "    # X is the (testing) data of shape (m,n)\n",
    "    # w are the weights learned in ridge regression\n",
    "    # function should return Y, the predicted values of shape (m,)\n",
    "    \n",
    "    # YOUR CODE HERE\n",
    "    #idenX = np.eye(trainX.shape[1])\n",
    "    #tranX = np.transpose(X)\n",
    "    Y = w@X.T\n",
    "    #Y = w / (np.linalg.inv(X.T@X)@tranX)\n",
    "    return Y\n",
    "\n",
    "def testridge(X,Y,w):\n",
    "    # X and Y are the testing data\n",
    "    # w are the weights from ridge regression\n",
    "    # returns the mean squared error\n",
    "    Ydelta = Y - predictridge(X,w)\n",
    "    return (Ydelta*Ydelta).mean()"
   ]
  },
  {
   "cell_type": "code",
   "execution_count": 4,
   "metadata": {},
   "outputs": [
    {
     "name": "stdout",
     "output_type": "stream",
     "text": [
      "25000\n",
      "[[ 1.         -0.72846714 -0.78471274 ... -0.14621821 -0.1357387\n",
      "  -0.14266464]\n",
      " [ 1.         -0.12458302 -0.61232115 ... -0.14621821 -0.1357387\n",
      "  -0.14266464]\n",
      " [ 1.          0.13422446  0.24963682 ... -0.14621821 -0.1357387\n",
      "  -0.14266464]\n",
      " ...\n",
      " [ 1.          0.13422446 -0.26753796 ... -0.14621821 -0.1357387\n",
      "  -0.14266464]\n",
      " [ 1.         -0.46965966 -0.95710434 ... -0.14621821 -0.1357387\n",
      "  -0.14266464]\n",
      " [ 1.         -0.46965966 -0.61232115 ... -0.14621821 -0.1357387\n",
      "  -0.14266464]]\n"
     ]
    }
   ],
   "source": [
    "print(len(trainX))\n",
    "print(trainX)\n",
    "#print(trainX)\n",
    "#np.shape(trainX)\n",
    "#print(np.shape(trainX))\n",
    "#print('\\ntestX')\n",
    "#print(testX)\n",
    "#print(np.shape(testX))\n",
    "#print (learnridge(trainX, trainY, 4))\n",
    "check=np.eye(3,k=0)\n",
    "check[0][0] = 0\n",
    "#print (check)"
   ]
  },
  {
   "cell_type": "markdown",
   "metadata": {},
   "source": [
    "<div style=\"color: #000000;background-color: #FFFFEE\">\n",
    "    <font size=+2>Question 2:</font> <font size=+1>(5 points)</font>\n",
    "\n",
    "Use 3-fold cross validation to select the value of lambda for ridge regression, using `trainX` and `trainYreg`.  Plot the average across the three folds of the average squared error on the validation set as a function of lambda.  Use `plt.semilogx` for your plot (i.e., the horizontal axis for lambda should be on a log scale).  Use 10 values of lambda, arrange logarithmically evenly between $10^2$ and $10^5$.  See `np.logspace`.  If the number of data points does not divide by 3 evenly, just divide as evenly as possible.  `np.array_split` might help, but there are other ways.\n",
    "    \n",
    "Save the chosen value for lambda in `ridgelam`\n",
    "</div>"
   ]
  },
  {
   "cell_type": "code",
   "execution_count": 5,
   "metadata": {},
   "outputs": [],
   "source": [
    "def fold_sec(X, Y, lam):\n",
    "    fold_sectionX = np.array_split(X,3)\n",
    "    fold_sectionY = np.array_split(Y,3)\n",
    "    # Initialize the array\n",
    "    averag = []\n",
    "    # 3 folds\n",
    "    for i in range(3):\n",
    "        initfoldx = fold_sectionX[:i]\n",
    "        initfoldy = fold_sectionY[:i]\n",
    "        # Get values that is not the validation set\n",
    "        if i < 2:\n",
    "            initfoldx += fold_sectionX[i+1:]\n",
    "            initfoldy += fold_sectionY[i+1:]\n",
    "        # Add to a vertial stack \n",
    "        fold_trainX = np.vstack(initfoldx)\n",
    "        #print(fold_trainX)\n",
    "        fold_trainY = np.hstack(initfoldy)\n",
    "        #print(fold_trainY)\n",
    "        fold_validateX = fold_sectionX[i]\n",
    "        fold_validateY = fold_sectionY[i]\n",
    "        #print(\"post validate\")\n",
    "        # Get the weight value\n",
    "        w = learnridge(fold_trainX, fold_trainY, lam)\n",
    "        # Add to list \n",
    "        averag.append(testridge(X, Y, w))\n",
    "        #print(\"appending\")\n",
    "        \n",
    "    #return the mean of the points\n",
    "    return np.mean(averag)"
   ]
  },
  {
   "cell_type": "code",
   "execution_count": 6,
   "metadata": {},
   "outputs": [],
   "source": [
    "# YOUR CODE HERE\n",
    "# get the lambda value\n",
    "choices = np.logspace(2, 5,num=10)\n",
    "# Get the range of lamdas\n",
    "ase = []\n",
    "#for h in choices:\n",
    "ase = [fold_sec(trainX, trainYreg, h) for h in choices]\n",
    "# Set the ridgelam to the minimum of the lamdas\n",
    "ridgelam = min(ase)\n"
   ]
  },
  {
   "cell_type": "code",
   "execution_count": 7,
   "metadata": {},
   "outputs": [
    {
     "data": {
      "text/plain": [
       "[<matplotlib.lines.Line2D at 0x7f9611876048>]"
      ]
     },
     "execution_count": 7,
     "metadata": {},
     "output_type": "execute_result"
    },
    {
     "data": {
      "image/png": "[encoded data removed]",
      "text/plain": [
       "<Figure size 432x288 with 1 Axes>"
      ]
     },
     "metadata": {
      "needs_background": "light"
     },
     "output_type": "display_data"
    }
   ],
   "source": [
    "plt.semilogx(choices,ase)"
   ]
  },
  {
   "cell_type": "markdown",
   "metadata": {},
   "source": [
    "<div style=\"color: #000000;background-color: #FFEEFF\">\n",
    "    <font size=+2>Part II: Logistic Regression</font>\n",
    "</div>"
   ]
  },
  {
   "cell_type": "markdown",
   "metadata": {},
   "source": [
    "The loss function for logistic regression, $f(x) = \\sigma(x^\\top w)$, is\n",
    "\\begin{align*}\n",
    "l(y,\\hat{y}) &= -\\ln \\sigma(y\\hat{y}) \\\\\n",
    "\\text{and thus} \\\\\n",
    "L &= \\frac{1}{m}\\sum_{i=1}^m -\\ln \\sigma(y_i f(x_i))\n",
    "\\end{align*}\n",
    "In class, we derived that the resulting gradient was, therefore,\n",
    "\\begin{align*}\n",
    "\\nabla_w L &= \\frac{-1}{m}\\sum_{i=1}^m (1-p_i)y_ix_i \\\\\n",
    "\\text{where} \\\\\n",
    "p_i &= \\sigma(y_i w^\\top x_i)\n",
    "\\end{align*}\n",
    "And so the update rule for $w$ is\n",
    "\\begin{align*}\n",
    "w &\\leftarrow w + \\eta \\frac{1}{m}\\sum_{i=1}^m (1-p_i)y_ix_i \n",
    "\\end{align*}"
   ]
  },
  {
   "cell_type": "markdown",
   "metadata": {},
   "source": [
    "<div style=\"color: #000000;background-color: #FFFFEE\">\n",
    "    <font size=+2>Question 3:</font> <font size=+1>(3 points)</font>\n",
    "\n",
    "Modify the total loss function, $L$, to include a regularization term with strength $\\lambda/m$ that penalizes the sum of the squares of the weights.\n",
    "\n",
    "***Write the new loss function.  Derive the gradient descent rule for this new loss function.***"
   ]
  },
  {
   "cell_type": "markdown",
   "metadata": {},
   "source": [
    "New Loss Function:\n",
    "\\begin{align*}\n",
    "L &= \\frac{1}{m}\\sum_{i=1}^m -\\ln \\sigma(y_i f(x_i)) + \\frac{\\lambda}{m}\\sum_{j=1}^n w^2_j\n",
    "\\end{align*}\n",
    "\n",
    "New Gradient Function:\n",
    "\\begin{align*}\n",
    "\\nabla_w L &= \\frac{-1}{m}\\sum_{i=1}^m (1-p_i)y_ix_i + \\frac{\\lambda}{m}\\sum_{j=1}^n 2w_j\\\\\n",
    "\\text{where} \\\\\n",
    "p_i &= \\sigma(y_i w^\\top x_i)\n",
    "\\end{align*}\n",
    "\n",
    "Updated rule for $w$:\n",
    "\\begin{align*}\n",
    "w &\\leftarrow w + \\eta (\\frac{-1}{m}\\sum_{i=1}^m (1-p_i)y_ix_i + \\frac{\\lambda}{m}\\sum_{j=1}^n 2w_j )\\\\\n",
    "\\end{align*}"
   ]
  },
  {
   "cell_type": "markdown",
   "metadata": {},
   "source": [
    "### YOUR DERIVATION HERE (include the loss function, the new gradient, and the update rule)"
   ]
  },
  {
   "cell_type": "markdown",
   "metadata": {},
   "source": [
    "<div style=\"color: #000000;background-color: #FFFFEE\">\n",
    "    <font size=+2>Question 4:</font> <font size=+1>(7 points)</font>\n",
    "    \n",
    "Complete the training and testing functions below for logistic regression.  We will use a constant step size of 0.2.  Picking a good step size is tricky, but this one should work well for this assignment.  Start $w$ at 0.  Use **batch** (or standard) gradient descent.  Stochastic gradient descent is harder to tell whether it is converging.  Stop when the squared magnitude of the gradient vector is less that $10^{-5}$.  Do not penalize the initial weight, corresponding to the intercept term.\n",
    "    \n",
    "A few hints:\n",
    "- This function will need to be written without loops (except for the loop over iterations of gradient descent) to be fast enough for the next question.\n",
    "- You can use `print` to output debugging information (or even use pyplot to plot things!).  The line `clear_output(wait=True)` will clear the output, in case you don't want the cell's output to extend too far during debugging.  (please remove debugging output when submitting)\n",
    "- To check to see if it is working, you should look that the gradient is getting smaller, but (more importantly) that the objective function (the loss) is getting smaller.\n",
    "\n",
    "</div>"
   ]
  },
  {
   "cell_type": "code",
   "execution_count": 8,
   "metadata": {},
   "outputs": [],
   "source": [
    "def learnlogreg(X,Y,lam):\n",
    "    # X is the data matrix of shape (m,n)\n",
    "    # Y is are the target labels (+1,-1) of shape (m,)\n",
    "    # lam is the value of lambda (careful, lambda is a reserved keyword in python)\n",
    "    # function should return w of shape (n,)\n",
    "    \n",
    "    w=np.zeros((len(X[0])))\n",
    "    m=len(X)\n",
    "    n=len(X[0])\n",
    "    \n",
    "    # While either the starting magnitude is 0, or the number is greater or equal to 10^-5\n",
    "    while ((np.linalg.norm(w) == 0) or (np.linalg.norm(w)**2 >= .00001)):\n",
    "        g=np.zeros((len(X[1])))\n",
    "        it2=1\n",
    "        r1=(lam/m)*2*np.sum(w)    \n",
    "        for cheese in range(X.shape[0]):\n",
    "            a = Y[cheese] * X[cheese] * w.T\n",
    "            p1 = (1/(1 + np.exp(-a)))\n",
    "            g1 = (-(1-p1)*(Y[cheese]) * X[cheese])\n",
    "            g = g + ((-1/m)*g1)\n",
    "            \n",
    "            \n",
    "        #while it2 < m:\n",
    "        #    a=Y[it2]*w.T*X[it2]\n",
    "        #    a=a*(-1)\n",
    "        #    p1=(1/(1 + np.exp(a)))\n",
    "        #    g1=((1-p1)*(Y[it2]*X[it2]))\n",
    "        #    g1=g1*(-1)\n",
    "        #    g=g+((-1/m)*g1)\n",
    "        #    it2=it2+1\n",
    "        w=w-(.20*(g+r1))\n",
    "        #print(w)\n",
    "        #print(np.linalg.norm(w)**2)\n",
    "    \n",
    "    return w\n",
    "    \n",
    "def predictlogreg(X,w):\n",
    "    # X is the (testing) data of shape (m,n)\n",
    "    # w are the weights learned in ridge regression\n",
    "    # function should return Y, the predicted values of shape (m,) (all values either +1 or -1)\n",
    "    return 1/(1 + np.exp(-(w.T*X)))\n",
    "    \n",
    "def testlogreg(X,Y,w):\n",
    "    # X and Y are the testing data\n",
    "    # w are the weights from ridge regression\n",
    "    # returns the mean squared error\n",
    "    \n",
    "    Ypred = np.sign(predictlogreg(X,w)) ## should be +1/-1, but incase they are not\n",
    "    \n",
    "    return (Ypred!=np.sign(Y)).mean()\n"
   ]
  },
  {
   "cell_type": "markdown",
   "metadata": {},
   "source": [
    "<div style=\"color: #000000;background-color: #FFFFEE\">\n",
    "    <font size=+2>Question 5:</font> <font size=+1>(4 points)</font>\n",
    "\n",
    "Use 3-fold cross validation to select the value of lambda for logistic regression, using `trainX` and `trainYclass`.  Plot the average across the three folds of the average squared error on the validation set as a function of lambda.  Use `plt.semilogx` for your plot (i.e., the horizontal axis for lambda should be on a log scale).  Use 10 values of lambda, arrange logarithmically evenly between $10^0$ and $10^4$.  See `np.logspace`. \n",
    "    \n",
    "Save the chosen value for lambda in `logreglam`\n",
    "    \n",
    "This part takes about 12 minutes, in my solutions.  This is a long time to wait for a debug cycle.  To debug your code, use fewer lambda values until you are sure your code is correct.  Better still, test learnlogreg separately until you are sure it is working.\n",
    "</div>"
   ]
  },
  {
   "cell_type": "code",
   "execution_count": null,
   "metadata": {},
   "outputs": [],
   "source": [
    "logreglam=0\n",
    "choices=np.logspace(2, 5, num=10)\n",
    "plt.semilogx(choices)\n",
    "\n",
    "lam1=500\n",
    "heck1=learnlogreg(trainX, trainYclass, lam1)\n",
    "heck2=testlogreg(trainX, trainYclass, heck1)\n",
    "print(heck2)\n"
   ]
  },
  {
   "cell_type": "code",
   "execution_count": 9,
   "metadata": {},
   "outputs": [],
   "source": [
    "def fold_log(X, Y, lam):\n",
    "    fold_sectionlogX = np.array_split(X,3)\n",
    "    fold_sectionlogY = np.array_split(Y,3)\n",
    "    # Initialize the array\n",
    "    averaglog = []\n",
    "    # 3 folds\n",
    "    for i in range(3):\n",
    "        initfoldlogx = fold_sectionlogX[:i]\n",
    "        initfoldlogy = fold_sectionlogY[:i]\n",
    "        # Get values that is not the validation set\n",
    "        if i < 2:\n",
    "            initfoldlogx += fold_sectionlogX[i+1:]\n",
    "            initfoldlogy += fold_sectionlogY[i+1:]\n",
    "        # Add to a vertial stack \n",
    "        fold_trainlogX = np.vstack(initfoldlogx)\n",
    "        #print(fold_trainX)\n",
    "        fold_trainlogY = np.hstack(initfoldlogy)\n",
    "        #print(fold_trainY)\n",
    "        fold_validatelogX = fold_sectionlogX[i]\n",
    "        fold_validatelogY = fold_sectionlogY[i]\n",
    "        #print(\"post validate\")\n",
    "        # Get the weight value\n",
    "        w = learnlogreg(fold_trainlogX, fold_trainlogY, lam)\n",
    "        # Add to list \n",
    "        averaglog.append(testlogreg(X, Y, w))\n",
    "        #print(\"appending\")\n",
    "        \n",
    "    #return the mean of the points\n",
    "    return np.mean(averaglog)"
   ]
  },
  {
   "cell_type": "code",
   "execution_count": null,
   "metadata": {},
   "outputs": [
    {
     "name": "stderr",
     "output_type": "stream",
     "text": [
      "/opt/conda/lib/python3.6/site-packages/ipykernel/__main__.py:18: RuntimeWarning: overflow encountered in exp\n"
     ]
    }
   ],
   "source": [
    "zoink = np.logspace(0, 4,num=10)\n",
    "# Get the range of lamdas\n",
    "aselog = []\n",
    "#for h in choices:\n",
    "aselog = [fold_log(trainX, trainYclass, z) for z in zoink]\n",
    "# Set the ridgelam to the minimum of the lamdas\n",
    "logreglam = min(aselog)"
   ]
  },
  {
   "cell_type": "code",
   "execution_count": null,
   "metadata": {},
   "outputs": [],
   "source": [
    "plt.semilogx(zoink,aselog)"
   ]
  },
  {
   "cell_type": "markdown",
   "metadata": {},
   "source": [
    "<div style=\"color: #000000;background-color: #FFEEFF\">\n",
    "    <font size=+2>Part III: Testing</font>\n",
    "</div>"
   ]
  },
  {
   "cell_type": "markdown",
   "metadata": {},
   "source": [
    "<div style=\"color: #000000;background-color: #FFFFEE\">\n",
    "The code below retrains ridge regression and logistic regression using the fond values of lambda, above.  It then reports the average error for each on the **testing** data.\n",
    "    \n",
    "Perhaps more interestingly, it also reports the error rate if the ridge regression method is used to predict whether the review is positive.\n",
    "</div>"
   ]
  },
  {
   "cell_type": "code",
   "execution_count": null,
   "metadata": {},
   "outputs": [],
   "source": [
    "wridge = learnridge(trainX,trainYreg,ridgelam)\n",
    "wlogreg = learnlogreg(trainX,trainYclass,logreglam)\n",
    "\n",
    "ridgemse = testridge(testX,testYreg,wridge)\n",
    "logregerrrate = testlogreg(testX,testYclass,wlogreg)\n",
    "ridgeerrrate = testlogreg(testX,testYclass,wridge)\n",
    "\n",
    "print(\"mean squared error for ridge rgression = %f\" % ridgemse)\n",
    "print(\"error rate for logistic regression = %f\" % logregerrrate)\n",
    "print(\"error rate for ridge regression = %f\" % ridgeerrrate)"
   ]
  },
  {
   "cell_type": "markdown",
   "metadata": {},
   "source": [
    "<div style=\"color: #000000;background-color: #FFFFEE\">\n",
    "    <font size=+2>Question 6:</font> <font size=+1>(3 points)</font>\n",
    "Given the results above, would you use ridge regression or logistic regression for this problem?  **Explain why.**\n",
    "</div>"
   ]
  },
  {
   "cell_type": "markdown",
   "metadata": {},
   "source": [
    "### YOUR ANSWER HERE"
   ]
  },
  {
   "cell_type": "markdown",
   "metadata": {},
   "source": [
    "I would use ridgeregession for this problem. It appears that the error rate for the ridge regression is lower than the other option."
   ]
  }
 ],
 "metadata": {
  "kernelspec": {
   "display_name": "CS 171 Python",
   "language": "python",
   "name": "cs171-cpu-limitation"
  },
  "language_info": {
   "codemirror_mode": {
    "name": "ipython",
    "version": 3
   },
   "file_extension": ".py",
   "mimetype": "text/x-python",
   "name": "python",
   "nbconvert_exporter": "python",
   "pygments_lexer": "ipython3",
   "version": "3.6.6"
  }
 },
 "nbformat": 4,
 "nbformat_minor": 2
}
